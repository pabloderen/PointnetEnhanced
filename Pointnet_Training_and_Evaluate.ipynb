{
 "cells": [
  {
   "cell_type": "markdown",
   "metadata": {
    "colab_type": "text",
    "id": "g2a8I1_oejD9"
   },
   "source": [
    "## Setup HyperOpt"
   ],
   "execution_count": null,
   "outputs": []
  },
  {
   "cell_type": "code",
   "execution_count": null,
   "metadata": {
    "colab": {
     "base_uri": "https://localhost:8080/",
     "height": 275
    },
    "colab_type": "code",
    "id": "Lg8G2EdReow9",
    "outputId": "a9abf5fe-2831-4545-98bb-523981b42a08"
   },
   "outputs": [],
   "source": [
    "!pip install hyperopt"
   ]
  },
  {
   "cell_type": "markdown",
   "metadata": {
    "colab_type": "text",
    "id": "u22w3BFiOveA"
   },
   "source": [
    "## Running pointnet\n",
    "\n",
    "Mount the google drive and point to the folder containing the train.py and run the code from there with a slight modification.\n"
   ],
   "execution_count": null,
   "outputs": []
  },
  {
   "cell_type": "code",
   "execution_count": null,
   "metadata": {
    "colab": {
     "base_uri": "https://localhost:8080/",
     "height": 122
    },
    "colab_type": "code",
    "id": "RWSJpsyKqHjH",
    "outputId": "ddfc035e-7dbc-463d-bea3-6667524369f2"
   },
   "outputs": [],
   "source": [
    "from google.colab import drive\n",
    "drive.mount('/content/gdrive')"
   ]
  },
  {
   "cell_type": "code",
   "execution_count": null,
   "metadata": {},
   "outputs": [],
   "source": [
    "import os\n",
    "os.chdir(\"/home/rsa-key-20181109/PointnetEnhanced/pointnet\")\n",
    "#!ls\n",
    "!python train.py --max_epoch=4 --run_mode='hyperopt' --log_dir=\"log/hyperopt\" --max_evals=5  --max_trials=10"
   ]
  },
  {
   "cell_type": "code",
   "execution_count": null,
   "metadata": {},
   "outputs": [],
   "source": [
    "import os\n",
    "os.chdir(\"/home/rsa-key-20181109/PointnetEnhanced/pointnet\")\n",
    "#!ls\n",
    "!python train.py --max_epoch=250 --run_mode='normal' --log_dir=\"log/normal32\" --batch_size=32\n",
    "#--max_evals=5  --max_trials=10"
   ]
  },
  {
   "cell_type": "code",
   "execution_count": null,
   "metadata": {},
   "outputs": [],
   "source": [
    "import os\n",
    "os.chdir(\"/home/rsa-key-20181109/PointnetEnhanced/pointnet\")\n",
    "#!ls\n",
    "!python train.py --max_epoch=250 --run_mode='normal' --log_dir=\"log/normal16\" --batch_size=16\n",
    "#--max_evals=5  --max_trials=10"
   ]
  },
  {
   "cell_type": "code",
   "execution_count": null,
   "metadata": {
    "colab": {
     "base_uri": "https://localhost:8080/",
     "height": 1361
    },
    "colab_type": "code",
    "id": "zNEHrCdY4dsO",
    "outputId": "8c88282e-e7b6-4308-a91e-124de6a518b9"
   },
   "outputs": [],
   "source": [
    "import os\n",
    "#os.chdir('/content/gdrive/My Drive/KE5208_Sense_Making/Code/pointnet00/')\n",
    "os.chdir('/content/gdrive/My Drive/GitHub/PointnetEnhanced/pointnet/')\n",
    "\n",
    "\n",
    "!python train.py --max_epoch=3 --run_mode='hyperopt' --log_dir=\"log/hyperopt88\" --max_evals=10  --max_trials=5\n",
    "# --batch_size=16 #--log_dir=\"log\""
   ]
  },
  {
   "cell_type": "code",
   "execution_count": null,
   "metadata": {
    "colab": {
     "base_uri": "https://localhost:8080/",
     "height": 185
    },
    "colab_type": "code",
    "id": "62mvI_VcvltV",
    "outputId": "817e8017-82e0-4234-8de1-2062d0c08581"
   },
   "outputs": [],
   "source": [
    "#os.chdir('/content/gdrive/My Drive/GitHub/PointnetEnhanced/pointnet/log/hyperopt')\n",
    "#!pip install --upgrade hyperopt\n",
    "#from __future__ import absolute_import\n",
    "import os\n",
    "import pickle\n",
    "from hyperopt import Trials\n",
    "os.chdir(\"/home/rsa-key-20181109/PointnetEnhanced/pointnet/log/hyperopt/1\")\n",
    "!ls\n",
    "\n",
    "trials = Trials()\n",
    "LOG_DIR = \"\"\n",
    "trialFilePath = os.path.join(LOG_DIR, \"trials.p\")\n",
    "if os.path.exists(trialFilePath):\n",
    "    trials = pickle.load(open(trialFilePath, \"rb\"))\n",
    "    print (\"Trials loaded.\")\n",
    "\n",
    "import json\n",
    "import pickle\n",
    "#WRITER = open(\"test.txt\", \"wb\")\n",
    "for trial in trials.results:\n",
    "    print (trial)\n",
    "\n",
    "print (trials.idxs_vals[0])\n",
    "  \n",
    "import pandas as pd\n",
    "# Dataframe of results from optimization\n",
    "tpe_results = pd.DataFrame({'batch size': [x['RunParams']['batch_size'] for x in trials.results],\n",
    "                            'loss': [x['loss'] for x in trials.results],\n",
    "                            'accuracy': [x['accuracy'] for x in trials.results] \n",
    "                            })\n",
    "                            \n",
    "tpe_results.head()"
   ]
  },
  {
   "cell_type": "code",
   "execution_count": null,
   "metadata": {},
   "outputs": [],
   "source": [
    "import os\n",
    "#os.chdir('/content/gdrive/My Drive/KE5208_Sense_Making/Code/pointnet00/')\n",
    "os.chdir(\"/home/rsa-key-20181109/PointnetEnhanced/pointnet\")\n",
    "\n",
    "#second run since first run was interrupted at EPOCH 119\n",
    "!python train.py --max_epoch=10 --run_mode='hyperopt' --log_dir=\"log/hyperopttiny\" --max_eval=20  # --batch_size=16 #--log_dir=\"log\""
   ]
  },
  {
   "cell_type": "code",
   "execution_count": null,
   "metadata": {
    "colab": {
     "base_uri": "https://localhost:8080/",
     "height": 48026
    },
    "colab_type": "code",
    "id": "Dix8TX3yJSI2",
    "outputId": "5d8c7077-63bf-4287-ae29-6a99ae72cc49"
   },
   "outputs": [],
   "source": [
    "import os\n",
    "#os.chdir('/content/gdrive/My Drive/KE5208_Sense_Making/Code/pointnet00/')\n",
    "os.chdir('/content/gdrive/My Drive/GitHub/PointnetEnhanced/pointnet/')\n",
    "\n",
    "#second run since first run was interrupted at EPOCH 119\n",
    "!python train.py --max_epoch=10 --run_mode='hyperopt' --log_dir=\"log/hyperopttiny\" --max_eval=20  # --batch_size=16 #--log_dir=\"log\""
   ]
  },
  {
   "cell_type": "markdown",
   "metadata": {
    "colab_type": "text",
    "id": "5-2X59hAEUKD"
   },
   "source": [],
   "execution_count": null,
   "outputs": []
  },
  {
   "cell_type": "code",
   "execution_count": null,
   "metadata": {
    "colab": {
     "base_uri": "https://localhost:8080/",
     "height": 513
    },
    "colab_type": "code",
    "id": "fAakEKduAND5",
    "outputId": "1194e352-a443-4ac6-f1a7-0616a71d1681"
   },
   "outputs": [],
   "source": [
    "import os\n",
    "#os.chdir('/content/gdrive/My Drive/KE5208_Sense_Making/Code/pointnet00/')\n",
    "os.chdir('/content/gdrive/My Drive/GitHub/PointnetEnhanced/pointnet/')\n",
    "\n",
    "!python evaluate.py \n",
    "#--model_path=\"log/normal5/model.ckpt\""
   ]
  },
  {
   "cell_type": "markdown",
   "metadata": {
    "colab_type": "text",
    "id": "uDaM9jejpevv"
   },
   "source": [
    "## Running tensorboard with the pointnet result\n",
    "https://www.dlology.com/blog/quick-guide-to-run-tensorboard-in-google-colab/"
   ],
   "execution_count": null,
   "outputs": []
  },
  {
   "cell_type": "code",
   "execution_count": null,
   "metadata": {
    "colab": {},
    "colab_type": "code",
    "id": "8zMJyoXTI8Yp"
   },
   "outputs": [],
   "source": [
    "str = \"\"\n",
    "if str:\n",
    "  print (\"not empty\")"
   ]
  },
  {
   "cell_type": "code",
   "execution_count": null,
   "metadata": {
    "colab": {
     "base_uri": "https://localhost:8080/",
     "height": 238
    },
    "colab_type": "code",
    "id": "Q1HvTklVpevy",
    "outputId": "2081441d-a2d1-4953-bf60-363fac76be2f"
   },
   "outputs": [],
   "source": [
    "!wget https://bin.equinox.io/c/4VmDzA7iaHb/ngrok-stable-linux-amd64.zip\n",
    "!unzip ngrok-stable-linux-amd64.zip"
   ]
  },
  {
   "cell_type": "code",
   "execution_count": null,
   "metadata": {
    "colab": {},
    "colab_type": "code",
    "id": "Lk5LgRFxpev9"
   },
   "outputs": [],
   "source": [
    "os.chdir('/content/gdrive/My Drive/GitHub/PointnetEnhanced/pointnet')\n",
    "\n",
    "LOG_DIR = './log/11'\n",
    "get_ipython().system_raw(\n",
    "    'tensorboard --logdir {} --host 0.0.0.0 --port 6006 &'\n",
    "    .format(LOG_DIR)\n",
    ")"
   ]
  },
  {
   "cell_type": "code",
   "execution_count": null,
   "metadata": {
    "colab": {},
    "colab_type": "code",
    "id": "1mDHS17MpewG"
   },
   "outputs": [],
   "source": [
    "get_ipython().system_raw('./ngrok http 6006 &')"
   ]
  },
  {
   "cell_type": "code",
   "execution_count": null,
   "metadata": {
    "colab": {
     "base_uri": "https://localhost:8080/",
     "height": 204
    },
    "colab_type": "code",
    "id": "YHCb450npewN",
    "outputId": "00e1dfd2-e496-4298-d974-5eb356e84fed"
   },
   "outputs": [],
   "source": [
    "! curl -s http://localhost:4040/api/tunnels | python -c \\\n",
    "    \"import sys, json; print(json.load(sys.stdin)['tunnels'][0]['public_url'])\""
   ]
  },
  {
   "cell_type": "markdown",
   "metadata": {
    "colab_type": "text",
    "id": "bFEMdCnvEXir"
   },
   "source": [
    "## Running pointnet 2"
   ],
   "execution_count": null,
   "outputs": []
  },
  {
   "cell_type": "code",
   "execution_count": null,
   "metadata": {
    "colab": {
     "base_uri": "https://localhost:8080/",
     "height": 683
    },
    "colab_type": "code",
    "id": "SoYtZ-4BbeCN",
    "outputId": "0956df5a-6d3d-4944-a88d-2d30affb0754"
   },
   "outputs": [],
   "source": [
    "import os\n",
    "os.chdir('/content/gdrive/My Drive/KE5208_Sense_Making/Code/pointnet2/pointnet2/tf_ops/sampling')\n",
    "!bash tf_sampling_compile.sh"
   ]
  },
  {
   "cell_type": "code",
   "execution_count": null,
   "metadata": {
    "colab": {
     "base_uri": "https://localhost:8080/",
     "height": 428
    },
    "colab_type": "code",
    "id": "pf9cvqQx2bik",
    "outputId": "4c5dfc88-2893-41a5-deee-697d63212d2a"
   },
   "outputs": [],
   "source": [
    "import os\n",
    "os.chdir('/content/gdrive/My Drive/KE5208_Sense_Making/Code/pointnet2/pointnet2/tf_ops/grouping')\n",
    "!bash tf_grouping_compile.sh"
   ]
  },
  {
   "cell_type": "code",
   "execution_count": null,
   "metadata": {
    "colab": {
     "base_uri": "https://localhost:8080/",
     "height": 292
    },
    "colab_type": "code",
    "id": "q3lp-iSx2ofl",
    "outputId": "645463a4-098b-4cdc-f490-d59a4286a342"
   },
   "outputs": [],
   "source": [
    "import os\n",
    "os.chdir('/content/gdrive/My Drive/KE5208_Sense_Making/Code/pointnet2/pointnet2/tf_ops/3d_interpolation')\n",
    "!bash tf_interpolate_compile.sh"
   ]
  },
  {
   "cell_type": "code",
   "execution_count": null,
   "metadata": {
    "colab": {
     "base_uri": "https://localhost:8080/",
     "height": 178569
    },
    "colab_type": "code",
    "id": "soaNJhOtEZud",
    "outputId": "8e5e7333-a127-422a-e213-ce3abd6c0130"
   },
   "outputs": [],
   "source": [
    "import os\n",
    "os.chdir('/content/gdrive/My Drive/KE5208_Sense_Making/Code/pointnet2/pointnet2')\n",
    "\n",
    "!python train.py #--gpu 0 # train_multi_gpu.py #--num_gpu=8"
   ]
  },
  {
   "cell_type": "code",
   "execution_count": null,
   "metadata": {
    "colab": {
     "base_uri": "https://localhost:8080/",
     "height": 3768
    },
    "colab_type": "code",
    "id": "hrIjBOTwmMby",
    "outputId": "c07081e6-c17f-4c4f-9188-56892b48ebc9"
   },
   "outputs": [],
   "source": [
    "import os\n",
    "os.chdir('/content/gdrive/My Drive/KE5208_Sense_Making/Code/pointnet2/pointnet2')\n",
    "\n",
    "!python evaluate.py"
   ]
  },
  {
   "cell_type": "code",
   "execution_count": null,
   "metadata": {
    "colab": {},
    "colab_type": "code",
    "id": "HrqElhJv4U6n"
   },
   "outputs": [],
   "source": []
  },
  {
   "cell_type": "markdown",
   "metadata": {
    "colab_type": "text",
    "id": "urpBMxFMwZp0"
   },
   "source": [
    "## Running tensorboard with the pointnet 2 result\n",
    "https://www.dlology.com/blog/quick-guide-to-run-tensorboard-in-google-colab/"
   ],
   "execution_count": null,
   "outputs": []
  },
  {
   "cell_type": "code",
   "execution_count": null,
   "metadata": {
    "colab": {
     "base_uri": "https://localhost:8080/",
     "height": 246
    },
    "colab_type": "code",
    "id": "IQr6PJmEyDoA",
    "outputId": "7fbfba6c-044b-43dd-803d-37aad0b03e1b"
   },
   "outputs": [],
   "source": [
    "!wget https://bin.equinox.io/c/4VmDzA7iaHb/ngrok-stable-linux-amd64.zip\n",
    "!unzip ngrok-stable-linux-amd64.zip"
   ]
  },
  {
   "cell_type": "code",
   "execution_count": null,
   "metadata": {
    "colab": {},
    "colab_type": "code",
    "id": "4zqMn0V3yHfl"
   },
   "outputs": [],
   "source": [
    "#os.chdir('/content/gdrive/My Drive/KE5208_Sense_Making/Code/pointnet2/pointnet2')\n",
    "os.chdir('/content/gdrive/My Drive/GitHub/PointnetEnhanced/pointnet2/pointnet2')\n",
    "\n",
    "LOG_DIR = './log'\n",
    "get_ipython().system_raw(\n",
    "    'tensorboard --logdir {} --host 0.0.0.0 --port 6007 &'\n",
    "    .format(LOG_DIR)\n",
    ")"
   ]
  },
  {
   "cell_type": "code",
   "execution_count": null,
   "metadata": {
    "colab": {},
    "colab_type": "code",
    "id": "k7Et00urGZpi"
   },
   "outputs": [],
   "source": [
    "get_ipython().system_raw('./ngrok http 6007 &')"
   ]
  },
  {
   "cell_type": "code",
   "execution_count": null,
   "metadata": {
    "colab": {
     "base_uri": "https://localhost:8080/",
     "height": 34
    },
    "colab_type": "code",
    "id": "uSEyxJBXFwKz",
    "outputId": "2eecc9c6-0580-4f28-dd16-d7f4f8b44084"
   },
   "outputs": [],
   "source": [
    "! curl -s http://localhost:4040/api/tunnels | python -c \\\n",
    "    \"import sys, json; print(json.load(sys.stdin)['tunnels'][0]['public_url'])\""
   ]
  },
  {
   "cell_type": "code",
   "execution_count": null,
   "metadata": {
    "colab": {},
    "colab_type": "code",
    "id": "v-_9M7rBJWlj"
   },
   "outputs": [],
   "source": []
  },
  {
   "cell_type": "markdown",
   "metadata": {
    "colab_type": "text",
    "id": "jQsVx4w1JYHY"
   },
   "source": [
    "## Running 3DmFV-Net\n",
    "\n",
    "Mount the google drive and point to the folder containing the train.py and run the code from there with a slight modification.\n"
   ],
   "execution_count": null,
   "outputs": []
  },
  {
   "cell_type": "code",
   "execution_count": null,
   "metadata": {
    "colab": {
     "base_uri": "https://localhost:8080/",
     "height": 19704
    },
    "colab_type": "code",
    "id": "VdXudP48JjqC",
    "outputId": "a33c68f3-8650-4bd6-b63e-c217d1ecef60"
   },
   "outputs": [],
   "source": [
    "import os\n",
    "os.chdir('/content/gdrive/My Drive/KE5208_Sense_Making/Code/3DmFV-Net-master')\n",
    "#os.chdir('/content/gdrive/My Drive/GitHub/PointnetEnhanced/pointnet/')\n",
    "\n",
    "\n",
    "!python train_cls.py --gpu=0 #--batch_size=128"
   ]
  }
 ],
 "metadata": {
  "accelerator": "GPU",
  "colab": {
   "collapsed_sections": [],
   "name": "Pointnet Training and Evaluate",
   "provenance": [],
   "toc_visible": true,
   "version": "0.3.2"
  },
  "kernelspec": {
   "display_name": "Python 2",
   "language": "python",
   "name": "python2"
  },
  "language_info": {
   "codemirror_mode": {
    "name": "ipython",
    "version": 2
   },
   "file_extension": ".py",
   "mimetype": "text/x-python",
   "name": "python",
   "nbconvert_exporter": "python",
   "pygments_lexer": "ipython2",
   "version": "2.7.13"
  }
 },
 "nbformat": 4,
 "nbformat_minor": 1
}